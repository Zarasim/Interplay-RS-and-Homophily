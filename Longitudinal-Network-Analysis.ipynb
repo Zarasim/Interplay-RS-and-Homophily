{
 "cells": [
  {
   "cell_type": "code",
   "execution_count": null,
   "metadata": {},
   "outputs": [],
   "source": [
    "from graph_analysis import *\n",
    "from graph_statistics import *"
   ]
  },
  {
   "cell_type": "code",
   "execution_count": null,
   "metadata": {},
   "outputs": [],
   "source": [
    "from collections import defaultdict"
   ]
  },
  {
   "cell_type": "code",
   "execution_count": null,
   "metadata": {},
   "outputs": [],
   "source": [
    "import warnings\n",
    "warnings.simplefilter(action='ignore')"
   ]
  },
  {
   "cell_type": "markdown",
   "metadata": {},
   "source": [
    "## Sequence of Bipartite Graphs and projected users networks (PEARSON)"
   ]
  },
  {
   "cell_type": "code",
   "execution_count": null,
   "metadata": {},
   "outputs": [],
   "source": [
    "df = pd.read_csv('csv/dataframe.csv',index_col=0,dtype={'userId': int,'movieId': str,'year': int})\n",
    "df.sort_index(inplace=True)\n",
    "df.head()"
   ]
  },
  {
   "cell_type": "code",
   "execution_count": null,
   "metadata": {},
   "outputs": [],
   "source": [
    "G,users,movies = create_bipartite_graph(df,rating=True,rating_cutoff=0.0)"
   ]
  },
  {
   "cell_type": "code",
   "execution_count": null,
   "metadata": {},
   "outputs": [],
   "source": [
    "# Sequence by year\n",
    "Gs = defaultdict(list)\n",
    "\n",
    "tw = [365]\n",
    "for i,t in enumerate(tw):\n",
    "    Gs[i] = graph_seq(G,start_date=datetime.datetime(1996,1,1),tw_days=t)"
   ]
  },
  {
   "cell_type": "code",
   "execution_count": null,
   "metadata": {},
   "outputs": [],
   "source": [
    "Gs_user = user_projection_pearson_seq(Gs[0],users)"
   ]
  },
  {
   "cell_type": "code",
   "execution_count": null,
   "metadata": {},
   "outputs": [],
   "source": [
    "Gs_user_slc = slice_network_seq(Gs_user,0.147)"
   ]
  },
  {
   "cell_type": "code",
   "execution_count": null,
   "metadata": {},
   "outputs": [],
   "source": [
    "for i in range(len(Gs_user_slc)):\n",
    "    nx.write_gexf(Gs_user_slc[i],'Gs_user_{}.gexf'.format(i))"
   ]
  },
  {
   "cell_type": "markdown",
   "metadata": {},
   "source": [
    "## Network Measures"
   ]
  },
  {
   "cell_type": "code",
   "execution_count": null,
   "metadata": {},
   "outputs": [],
   "source": [
    "d = [nx.density(Gs_user_slc[i]) for i in range(len(Gs_user_slc))]\n",
    "d = pd.Series(d,index=Gs_user_slc.index)\n",
    "\n",
    "edges = [len(Gs_user_slc[i].edges()) for i in range(len(Gs_user_slc))]\n",
    "edges = pd.Series(edges,index=Gs_user_slc.index)\n",
    "\n",
    "nodes = [len(Gs_user_slc[i].nodes()) for i in range(len(Gs_user_slc))]\n",
    "nodes = pd.Series(nodes,index=Gs_user_slc.index)\n",
    "\n",
    "\n",
    "cc = [nx.average_clustering(Gs_user_slc[i]) for i in range(len(Gs_user_slc))]\n",
    "cc = pd.Series(cc,index = Gs_user_slc.index)\n",
    "\n",
    "\n",
    "avg_sp = []\n",
    "max_nodes = 0\n",
    "\n",
    "for i in range(len(Gs_user_slc)):\n",
    "    \n",
    "    for C in (Gs_user_slc[i].subgraph(c).copy() for c in nx.connected_components(Gs_user_slc[i])):\n",
    "        \n",
    "        n_nodes = C.number_of_nodes()\n",
    "        \n",
    "        if n_nodes > max_nodes:\n",
    "            \n",
    "            max_nodes = n_nodes\n",
    "            C_biggest = C\n",
    "        \n",
    "    avg_sp.append(nx.average_shortest_path_length(C_biggest))\n",
    "        \n",
    "avg_sp = pd.Series(avg_sp,index = Gs_user_slc.index)\n",
    "\n",
    "gcc = []\n",
    "for i in range(len(Gs_user_slc)):\n",
    "    gcc.append(max([Gs_user_slc[i].subgraph(c).number_of_nodes() for c in nx.connected_components(Gs_user_slc[i])]))\n",
    "\n",
    "gcc = pd.Series(gcc,index=Gs_user_slc.index)"
   ]
  },
  {
   "cell_type": "code",
   "execution_count": null,
   "metadata": {},
   "outputs": [],
   "source": [
    "_,axs = plt.subplots(2,2,figsize=(10,10))\n",
    "\n",
    "axs[0,0].plot(d,'.-')\n",
    "axs[0,0].set_title('Density')\n",
    "axs[0,0].set_xlabel('year')\n",
    "axs[0,0].axhline(min(d), color='green', linestyle='--',label = 'min density {}'.format(round(min(d),2)))\n",
    "axs[0,0].legend()\n",
    "\n",
    "axs[0,1].plot(cc,'.-')\n",
    "axs[0,1].set_title('Clustering Coefficient')\n",
    "axs[0,1].set_xlabel('year')\n",
    "\n",
    "axs[1,0].plot(avg_sp,'.-')\n",
    "axs[1,0].set_title('Average Distance')\n",
    "axs[1,0].set_xlabel('year')\n",
    "\n",
    "axs[1,1].plot(gcc,'.-')\n",
    "axs[1,1].set_title('Size Greatest Connected Component')\n",
    "axs[1,1].set_xlabel('year')\n",
    "    \n",
    "plt.tight_layout()\n",
    "plt.show()"
   ]
  },
  {
   "cell_type": "code",
   "execution_count": null,
   "metadata": {},
   "outputs": [],
   "source": [
    "weg = []\n",
    "\n",
    "for i in range(len(Gs_user_slc)):\n",
    "    weg.append([d['weight'] for u,m,d in Gs_user_slc[i].edges(data=True)])"
   ]
  },
  {
   "cell_type": "code",
   "execution_count": null,
   "metadata": {},
   "outputs": [],
   "source": [
    "deg = []\n",
    "for i in range(len(Gs_user_slc)):\n",
    "    deg.append(list(nx.degree_centrality(Gs_user_slc[i]).values()))"
   ]
  },
  {
   "cell_type": "code",
   "execution_count": null,
   "metadata": {},
   "outputs": [],
   "source": [
    "_, ax = plt.subplots(nrows=1,ncols=2,figsize = (15,5))\n",
    "\n",
    "df_d = pd.DataFrame(deg).transpose()\n",
    "df_d.plot.box(ax = ax[0])\n",
    "\n",
    "ax[0].set_title('Degree Centrality Distribution')\n",
    "ax[0].set_xlabel('years elapsed since 1996')\n",
    "\n",
    "\n",
    "df_w = pd.DataFrame(weg).transpose()\n",
    "df_w.plot.box(ax = ax[1])\n",
    "\n",
    "ax[1].set_title('Weight Distribution')\n",
    "ax[1].set_xlabel('years elapsed since 1996') \n",
    "\n",
    "plt.show()"
   ]
  },
  {
   "cell_type": "code",
   "execution_count": null,
   "metadata": {},
   "outputs": [],
   "source": [
    "import seaborn as sns\n",
    "\n",
    "seq = []\n",
    "for i in range(len(Gs_user_slc)):\n",
    "    seq.append([d['weight'] for u,m,d in Gs_user_slc[i].edges(data=True)])\n",
    "\n",
    "_, ax = plt.subplots(nrows=1,ncols=2,figsize = (15,5))\n",
    "\n",
    "\n",
    "for i in range(0,len(seq)-12,2):\n",
    "    sns.distplot(seq[i],hist=False,label= '{} years'.format(round(i,1)),norm_hist=False,ax=ax[0])\n",
    "    \n",
    "ax[0].set_title('Weight Distribution')\n",
    "ax[0].set_xlabel('weight')\n",
    "ax[0].set_ylabel('counts')\n",
    "ax[0].legend()\n",
    "ax[0].set_xlim((0.15,0.6))\n",
    "\n",
    "\n",
    "df_w[df_w > 0.4].count().plot(style = '.-',alpha = 0.7,ax = ax[1])\n",
    "\n",
    "ax[1].set_title('# Strong Links')\n",
    "ax[1].set_xlabel('years elapsed since 1996')\n",
    "ax[1].set_ylabel('Counts')\n",
    "\n",
    "plt.show()   "
   ]
  },
  {
   "cell_type": "markdown",
   "metadata": {},
   "source": [
    "## Recommender System"
   ]
  },
  {
   "cell_type": "code",
   "execution_count": null,
   "metadata": {},
   "outputs": [],
   "source": [
    "df_movie = pd.read_csv('csv/dataframe_movie.csv',index_col=0,dtype={'movieId': str,'year': int})\n",
    "df_movie.sort_index(inplace=True)\n",
    "df_movie.head()"
   ]
  },
  {
   "cell_type": "code",
   "execution_count": null,
   "metadata": {},
   "outputs": [],
   "source": [
    "import imp\n",
    "import recommendation\n",
    "imp.reload(recommendation)\n",
    "from recommendation import *"
   ]
  },
  {
   "cell_type": "code",
   "execution_count": null,
   "metadata": {},
   "outputs": [],
   "source": [
    "#alpha = [0.0,0.1,0.2,0.3,0.4,0.5,0.6,0.7,0.8,0.9,1.0]\n",
    "\n",
    "alpha = [0.1]"
   ]
  },
  {
   "cell_type": "code",
   "execution_count": null,
   "metadata": {
    "scrolled": true
   },
   "outputs": [],
   "source": [
    "Gs_alpha = defaultdict(list)\n",
    "Gs_user_alpha = defaultdict(list)\n",
    "summary_alpha = []\n",
    "\n",
    "for i in range(len(alpha)):\n",
    "    Ns,Ns_user,summary = graph_reccomendation_col(Gs=Gs[0],Gs_user=Gs_user_slc,df_movie = df_movie,users=users,movies=movies,\n",
    "                                            start_date=datetime.datetime(2000,1,1),threshold=0.147,min_new_items=10,\n",
    "                                            alpha=alpha[i])    \n",
    "    Gs_alpha[i] = Ns\n",
    "    Gs_user_alpha[i] = Ns_user\n",
    "    summary_alpha.append(summary)"
   ]
  },
  {
   "cell_type": "code",
   "execution_count": null,
   "metadata": {},
   "outputs": [],
   "source": [
    "for i in range(len(Gs_user_alpha)):\n",
    "    for j in range(len(Gs_user_alpha[i])):\n",
    "        nx.write_gexf(Gs_user_alpha[i][j],'graph_user_alpha{0}_{1}.gexf'.format(i,j))"
   ]
  },
  {
   "cell_type": "code",
   "execution_count": null,
   "metadata": {},
   "outputs": [],
   "source": [
    "for i in range(len(Gs_alpha)):\n",
    "    for j in range(len(Gs_alpha[i])):\n",
    "        nx.write_edgelist(Gs_alpha[i][j],'graph_alpha{0}_{1}.csv'.format(i,j),data=[('rating',float),('date',str)],delimiter =' ')"
   ]
  },
  {
   "cell_type": "code",
   "execution_count": null,
   "metadata": {},
   "outputs": [],
   "source": [
    "for i in range(len(summary_alpha)):\n",
    "    summary_alpha[i].to_csv('summary_pear_seq{}.csv'.format(i))"
   ]
  },
  {
   "cell_type": "code",
   "execution_count": null,
   "metadata": {},
   "outputs": [],
   "source": [
    "# The number of edges does not vary by construction\n",
    "# Plot only nodes and density\n",
    "\n",
    "_,axs = plt.subplots(2,2,figsize=(15,10))\n",
    "\n",
    "for i in range(0,len(summary_alpha),2):\n",
    "    summary_alpha[i]['users'].apply(lambda x: len(x)).plot(label = 'alpha {}'.format(alpha[i]), style = '.-',alpha = 0.8, ax = axs[0,0])\n",
    "\n",
    "axs[0,0].legend()\n",
    "axs[0,0].set_title('# target users')\n",
    "axs[0,0].set_xlabel('year')\n",
    "\n",
    "for i in range(0,len(summary_alpha),2):\n",
    "    summary_alpha[i]['cov_users_prec'].plot(label = 'alpha {}'.format(alpha[i]),style = '.-',alpha = 0.8,ax = axs[0,1])\n",
    "\n",
    "axs[0,1].legend()\n",
    "axs[0,1].set_title('# target users - precision')\n",
    "axs[0,1].set_xlabel('year')\n",
    "\n",
    "for i in range(0,len(summary_alpha),2):\n",
    "    summary_alpha[i]['movie_r'].plot(label = 'alpha {}'.format(alpha[i]),style = '.-',alpha = 0.8, ax = axs[1,0])\n",
    "\n",
    "axs[1,0].legend()\n",
    "axs[1,0].set_title('# movie random')\n",
    "axs[1,0].set_xlabel('year')\n",
    "\n",
    "for i in range(0,len(summary_alpha),2):\n",
    "    summary_alpha[i]['movie_nr'].plot(label = 'alpha {}'.format(alpha[i]),style = '.-',alpha = 0.8,ax = axs[1,1])\n",
    "\n",
    "axs[1,1].legend()\n",
    "axs[1,1].set_title('# movie not random')\n",
    "axs[1,1].set_xlabel('year')\n",
    "\n",
    "plt.tight_layout()\n",
    "plt.show()"
   ]
  },
  {
   "cell_type": "markdown",
   "metadata": {},
   "source": [
    "### Precision"
   ]
  },
  {
   "cell_type": "code",
   "execution_count": null,
   "metadata": {},
   "outputs": [],
   "source": [
    "plt.subplots(1,2,figsize = (15,5))\n",
    "\n",
    "plt.subplot(1,2,1)\n",
    "for i in range(0,11,2):\n",
    "    plt.errorbar(summary_alpha[i]['avg_prec'].index, summary_alpha[i]['avg_prec'].values, yerr= summary_alpha[10]['std_prec'].values/6,label = 'alpha: {}'.format(alpha[i]))\n",
    "\n",
    "plt.legend(loc = 'upper right')\n",
    "plt.ylabel('precision')\n",
    "plt.xlabel('year')\n",
    "\n",
    "plt.subplot(1,2,2)\n",
    "plt.errorbar(summary_alpha[10]['avg_prec'].index, summary_alpha[10]['avg_prec'].values, yerr= summary_alpha[10]['std_prec'].values/6,label = 'alpha: 1.0')\n",
    "\n",
    "plt.legend()\n",
    "plt.ylabel('precision')\n",
    "plt.xlabel('year')\n",
    "\n",
    "\n",
    "plt.tight_layout()\n",
    "plt.show()"
   ]
  },
  {
   "cell_type": "markdown",
   "metadata": {},
   "source": [
    "## RS - User Graph Sequence"
   ]
  },
  {
   "cell_type": "markdown",
   "metadata": {},
   "source": [
    "This sequence reflects the evolution of implicit users relationships guided by the action of the previous recommendation engine. As done earlier, the following plots describe how global network measures and the weight distribution change over time."
   ]
  },
  {
   "cell_type": "code",
   "execution_count": null,
   "metadata": {},
   "outputs": [],
   "source": [
    "d_RS = []\n",
    "edges_RS = []\n",
    "nodes_RS = []\n",
    "cc_RS = []\n",
    "avg_RS =[]\n",
    "gcc_RS = []\n",
    "\n",
    "for j in range(len(Gs_user_alpha)):\n",
    "    d_RS.append(pd.Series([nx.density(Gs_user_alpha[j][i]) for i in range(len(Gs_user_alpha[j]))],index = Gs_user_alpha[j].index))\n",
    "        \n",
    "for j in range(len(Gs_user_alpha)):\n",
    "    cc_RS.append(pd.Series([nx.average_clustering(Gs_user_alpha[j][i]) for i in range(len(Gs_user_alpha[j]))],\n",
    "                              index = Gs_user_alpha[j].index))\n",
    "    \n",
    "for j in range(len(Gs_user_alpha)):\n",
    "    avg_RS.append(pd.Series([nx.average_shortest_path_length(max(nx.connected_component_subgraphs(Gs_user_alpha[j][i]), key=len)) for i in range(len(Gs_user_alpha[j]))],\n",
    "                        index = Gs_user_alpha[j].index))\n",
    "\n",
    "    \n",
    "for j in range(len(Gs_user_alpha)):\n",
    "    gcc_RS.append(pd.Series([len(max(nx.connected_component_subgraphs(Gs_user_alpha[j][i]),key = len)) for i in range(len(Gs_user_alpha[j]))],\n",
    "                        index = Gs_user_alpha[j].index))"
   ]
  },
  {
   "cell_type": "code",
   "execution_count": null,
   "metadata": {},
   "outputs": [],
   "source": [
    "f = open(\"gcc_RS.pkl\",\"wb\")\n",
    "pickle.dump(gcc_RS,f)\n",
    "f.close()\n",
    "\n",
    "f = open(\"d_RS.pkl\",\"wb\")\n",
    "pickle.dump(d_RS,f)\n",
    "f.close()\n",
    "\n",
    "f = open(\"avg_RS.pkl\",\"wb\")\n",
    "pickle.dump(avg_RS,f)\n",
    "f.close()\n",
    "\n",
    "f = open(\"edges_RS.pkl\",\"wb\")\n",
    "pickle.dump(edges_RS,f)\n",
    "f.close()\n",
    "\n",
    "f = open(\"nodes_RS.pkl\",\"wb\")\n",
    "pickle.dump(nodes_RS,f)\n",
    "f.close()\n",
    "\n",
    "f = open(\"cc_RS.pkl\",\"wb\")\n",
    "pickle.dump(cc_RS,f)\n",
    "f.close()"
   ]
  },
  {
   "cell_type": "code",
   "execution_count": null,
   "metadata": {},
   "outputs": [],
   "source": [
    "# The number of edges does not vary by construction\n",
    "# Plot only nodes and density\n",
    "\n",
    "_,axs = plt.subplots(2,2,figsize=(10,10))\n",
    "axs[0,0].plot(d,'r.-',alpha = 1,label = 'original sequence')\n",
    "\n",
    "for i in range(0,len(d_RS),2):\n",
    "    axs[0,0].plot(d_RS[i],'.-',label = 'alpha: {}'.format(alpha[i]),alpha = 0.4)\n",
    "\n",
    "axs[0,0].legend()\n",
    "axs[0,0].set_title('Density')\n",
    "axs[0,0].set_xlabel('year')\n",
    "axs[0,0].set_xlim(('2000-01-01',None))\n",
    "axs[0,0].set_ylim((0.15,0.3))\n",
    "\n",
    "\n",
    "axs[0,1].plot(cc,'r.-',alpha= 1,label = 'original sequence')\n",
    "\n",
    "for i in range(0,len(cc_RS),2):\n",
    "    axs[0,1].plot(cc_RS[i],'.-',label = 'alpha: {}'.format(alpha[i]),alpha = 0.4)\n",
    "\n",
    "axs[0,1].legend()\n",
    "axs[0,1].set_title('Clustering Coefficient')\n",
    "axs[0,1].set_xlabel('year')\n",
    "axs[0,1].set_xlim(('2000-01-01',None))\n",
    "axs[0,1].set_ylim((0.63,0.7))\n",
    "axs[0,1].legend(loc = 'lower left')\n",
    "\n",
    "\n",
    "\n",
    "axs[1,0].plot(avg_sp,'r.-',alpha= 1,label = 'Original Sequence')\n",
    "\n",
    "for i in range(0,len(avg_RS),2):\n",
    "    axs[1,0].plot(avg_RS[i],'.-',label = 'alpha: {}'.format(alpha[i]),alpha = 0.4)\n",
    "\n",
    "\n",
    "axs[1,0].legend(loc = 'upper right')\n",
    "axs[1,0].set_title('Average Distance')\n",
    "axs[1,0].set_xlabel('year')\n",
    "axs[1,0].set_xlim(('2000-01-01',None))\n",
    "axs[1,0].set_ylim((1.83,2.10))\n",
    "\n",
    "\n",
    "axs[1,1].plot(gcc,'r.-',alpha= 1,label = 'Original Sequence')\n",
    "\n",
    "for i in range(0,len(gcc_RS),2):\n",
    "    axs[1,1].plot(gcc_RS[i],'.-',label = 'alpha: {}'.format(alpha[i]),alpha = 0.4)\n",
    "\n",
    "\n",
    "axs[1,1].legend()\n",
    "axs[1,1].set_title('Greatest Connected Component')\n",
    "axs[1,1].set_xlabel('year')\n",
    "\n",
    "\n",
    "plt.tight_layout()\n",
    "plt.show()"
   ]
  },
  {
   "cell_type": "code",
   "execution_count": null,
   "metadata": {},
   "outputs": [],
   "source": [
    "seq = []\n",
    "\n",
    "for j in range(len(alpha)):\n",
    "    seq.append([d['weight'] for u,m,d in Gs_user_alpha[j][-1].edges(data=True) if d['weight'] > 0.4])\n",
    "\n",
    "seq.append([d['weight'] for u,m,d in Gs_user_slc[-1].edges(data=True) if d['weight'] > 0.4])   "
   ]
  },
  {
   "cell_type": "code",
   "execution_count": null,
   "metadata": {},
   "outputs": [],
   "source": [
    "pd_strw = pd.DataFrame(seq).transpose().sum()\n",
    "pd_strw.index = np.append(alpha,'Source')"
   ]
  },
  {
   "cell_type": "code",
   "execution_count": null,
   "metadata": {},
   "outputs": [],
   "source": [
    "pd_strw.plot.bar(color = 'r',alpha = 1)\n",
    "\n",
    "\n",
    "plt.title('# Strong links in last User Network')\n",
    "plt.ylabel('counts')\n",
    "plt.xlabel('alpha')\n",
    "plt.show()"
   ]
  },
  {
   "cell_type": "markdown",
   "metadata": {},
   "source": [
    "### Focal Closure"
   ]
  },
  {
   "cell_type": "code",
   "execution_count": null,
   "metadata": {},
   "outputs": [],
   "source": [
    "foc = focal_closure(Gs=Gs[0],Gs_user_sliced=Gs_user_slc,start_date=datetime.datetime(2000,1,1),window=2,max_k=10)"
   ]
  },
  {
   "cell_type": "code",
   "execution_count": null,
   "metadata": {},
   "outputs": [],
   "source": [
    "foc.to_csv('focal_source.csv')"
   ]
  },
  {
   "cell_type": "code",
   "execution_count": null,
   "metadata": {},
   "outputs": [],
   "source": [
    "foc_rs = []\n",
    "\n",
    "for i in range(10):\n",
    "    foc_rs.append(pd.read_csv('focal/focal_synthetic{}.csv'.format(i),index_col=0))"
   ]
  },
  {
   "cell_type": "code",
   "execution_count": null,
   "metadata": {},
   "outputs": [],
   "source": [
    "for i in range(len(foc_rs)):\n",
    "    foc_rs[i].to_csv('focal_synthetic{}.csv'.format(i))"
   ]
  },
  {
   "cell_type": "code",
   "execution_count": null,
   "metadata": {},
   "outputs": [],
   "source": [
    "# Compare next plot with baseline 1 - (1-p)^k\n",
    "# Find p as the slope of a linear fit \n",
    "\n",
    "lm_foc = lin_reg(x=np.arange(10),y=foc.mean(axis=1).values[:10])\n",
    "p_foc = lm_foc.slope\n",
    "\n",
    "baseline_foc = np.array([(1 - np.power((1-p_foc),k))  for k in range(10)])\n",
    "baseline_shift_foc = np.array([(1 - np.power((1-p_foc),k-1))  for k in range(10)])"
   ]
  },
  {
   "cell_type": "code",
   "execution_count": null,
   "metadata": {},
   "outputs": [],
   "source": [
    "plt.figure(figsize = (10,5))\n",
    "\n",
    "foc.mean(axis=1).plot(style = 'r-',label = 'true sequence',alpha=1)\n",
    "\n",
    "for i in range(0,len(foc_rs)):\n",
    "    foc_rs[i].mean(axis=1).plot(style = '.-',label = 'alpha: {}'.format(round(alpha[i],2)),alpha = 0.6)\n",
    "\n",
    "plt.plot(lm_foc.intercept + baseline_foc,'b-.',alpha = 0.5, label = 'r-coeff: {0}\\np-value: {1}'.format(round(lm_foc.rvalue,2),1.47))\n",
    "plt.plot(lm_foc.intercept + baseline_shift_foc,'b-.',alpha = 0.5)\n",
    "\n",
    "plt.title('Focal Closure')\n",
    "plt.xlabel('K common items')\n",
    "plt.ylabel('link formation probability')\n",
    "plt.legend(loc = 'upper left')\n",
    "plt.show()"
   ]
  }
 ],
 "metadata": {
  "hide_input": false,
  "kernelspec": {
   "display_name": "Python 3",
   "language": "python",
   "name": "python3"
  },
  "language_info": {
   "codemirror_mode": {
    "name": "ipython",
    "version": 3
   },
   "file_extension": ".py",
   "mimetype": "text/x-python",
   "name": "python",
   "nbconvert_exporter": "python",
   "pygments_lexer": "ipython3",
   "version": "3.8.10"
  },
  "latex_envs": {
   "LaTeX_envs_menu_present": true,
   "autoclose": false,
   "autocomplete": true,
   "bibliofile": "biblio.bib",
   "cite_by": "apalike",
   "current_citInitial": 1,
   "eqLabelWithNumbers": true,
   "eqNumInitial": 1,
   "hotkeys": {
    "equation": "Ctrl-E",
    "itemize": "Ctrl-I"
   },
   "labels_anchors": false,
   "latex_user_defs": false,
   "report_style_numbering": false,
   "user_envs_cfg": false
  }
 },
 "nbformat": 4,
 "nbformat_minor": 2
}
